{
 "cells": [
  {
   "cell_type": "code",
   "execution_count": 1,
   "metadata": {},
   "outputs": [
    {
     "name": "stderr",
     "output_type": "stream",
     "text": [
      "C:\\Users\\maste\\Anaconda3\\lib\\site-packages\\sklearn\\cross_validation.py:41: DeprecationWarning: This module was deprecated in version 0.18 in favor of the model_selection module into which all the refactored classes and functions are moved. Also note that the interface of the new CV iterators are different from that of this module. This module will be removed in 0.20.\n",
      "  \"This module will be removed in 0.20.\", DeprecationWarning)\n"
     ]
    }
   ],
   "source": [
    "import dill\n",
    "dill.load_session('working_model.db')"
   ]
  },
  {
   "cell_type": "code",
   "execution_count": 2,
   "metadata": {},
   "outputs": [],
   "source": [
    "def dataFrameCreatorCSV(file):\n",
    "    cols = ['handle','keyword','body','date_tweeted','replies','likes', 'retweets']\n",
    "    tweet_df = pd.read_csv(file, header=None, names=cols ,encoding = 'latin-1')\n",
    "    tweet_df.drop(['handle','keyword','replies','likes', 'retweets'],axis=1,inplace=True)\n",
    "    tweet_df = cleanDF(tweet_df)\n",
    "    return tweet_df"
   ]
  },
  {
   "cell_type": "code",
   "execution_count": 3,
   "metadata": {},
   "outputs": [],
   "source": [
    "import json\n",
    "def dataFrameCreatorJSON(file):\n",
    "    with open(file, 'rb') as f:\n",
    "        data = json.load(f)\n",
    "    tweet_df = pd.DataFrame(data)\n",
    "    tweet_df.drop(['TweetKeyword','TweetHandle','TweetReplies','TweetRetweets','TweetLikes'],axis=1,inplace=True)\n",
    "    tweet_df.columns = ['date_tweeted','body']\n",
    "    tweet_df = cleanDF(tweet_df)\n",
    "    return tweet_df"
   ]
  },
  {
   "cell_type": "code",
   "execution_count": 4,
   "metadata": {},
   "outputs": [],
   "source": [
    "def reformData(name): \n",
    "    name['sentiment'] = sentimentTweet(name)#generates new column of sentiments using the seniment tweet method\n",
    "    name['predNum'] = sentimentTweetNum(name)#generates new column of predNum using the sentiment tweet num method(decision function)\n",
    "    name['prediction'] = sentimentTweetPre(name)#generates new column of sentiments using the prediction call from svm\n",
    "    return name #returns dataframe"
   ]
  },
  {
   "cell_type": "code",
   "execution_count": 5,
   "metadata": {},
   "outputs": [],
   "source": [
    "def sentimentTweet(name):\n",
    "    text  = name.body\n",
    "    x2 = vect.transform(text) #uses the tf-idf to transform the tweets so the model can use to predict\n",
    "    db = svm_clf.decision_function(x2) #calls the decision funtion on all of the tweets in given dataframe\n",
    "    db = db.astype(object)\n",
    "    for i in range(len(db)): #Using the decision function splits each sentiment prediction into either positive, negative,or neutral\n",
    "        if db[i] > 0.275:\n",
    "            db[i]= \"positive\"\n",
    "        elif db[i] < 0.275 and db[i] > -0.275:\n",
    "            db[i]=\"neutral\"\n",
    "        elif db[i] < -0.275:\n",
    "            db[i] = \"negative\"\n",
    "        else:\n",
    "            print(\"not real\")\n",
    "    return db\n"
   ]
  },
  {
   "cell_type": "code",
   "execution_count": 6,
   "metadata": {},
   "outputs": [],
   "source": [
    "def sentimentTweetNum(name):\n",
    "    text  = name.body\n",
    "    x2 = vect.transform(text) #uses the tf-idf to transform the tweets so the model can use to predict\n",
    "    db = svm_clf.decision_function(x2)#calls the decision funtion on all of the tweets in given dataframe\n",
    "    return db #returns the decision function values -4 - 4"
   ]
  },
  {
   "cell_type": "code",
   "execution_count": 7,
   "metadata": {},
   "outputs": [],
   "source": [
    "def sentimentTweetPre(name):\n",
    "    text  = name.body\n",
    "    x2 = vect.transform(text) #uses the tf-idf to transform the tweets so the model can use to predict\n",
    "    db = svm_clf.predict(x2) #uses the linear svm models predict function to generate predictions of 1 or 0\n",
    "    return db #returns the predicted sentiments"
   ]
  },
  {
   "cell_type": "code",
   "execution_count": 8,
   "metadata": {},
   "outputs": [],
   "source": [
    "tok = WordPunctTokenizer()\n",
    "pat1 = r'@[A-Za-z0-9_]+'\n",
    "pat2 = r'https?://[^ ]+'\n",
    "combined_pat = r'|'.join((pat1, pat2))\n",
    "www_pat = r'www.[^ ]+'\n",
    "negations_dic = {\"isn't\":\"is not\", \"aren't\":\"are not\", \"wasn't\":\"was not\", \"weren't\":\"were not\",\n",
    "                \"haven't\":\"have not\",\"hasn't\":\"has not\",\"hadn't\":\"had not\",\"won't\":\"will not\",\n",
    "                \"wouldn't\":\"would not\", \"don't\":\"do not\", \"doesn't\":\"does not\",\"didn't\":\"did not\",\n",
    "                \"can't\":\"can not\",\"couldn't\":\"could not\",\"shouldn't\":\"should not\",\"mightn't\":\"might not\",\n",
    "                \"mustn't\":\"must not\"}\n",
    "neg_pattern = re.compile(r'\\b(' + '|'.join(negations_dic.keys()) + r')\\b')\n",
    "\n",
    "def tweet_cleaner(body):\n",
    "    soup = BeautifulSoup(body, 'lxml')\n",
    "    souped = soup.get_text()\n",
    "    try:\n",
    "        bom_removed = souped.decode(\"utf-8-sig\").replace(u\"\\ufffd\", \"?\")\n",
    "    except:\n",
    "        bom_removed = souped\n",
    "    stripped = re.sub(combined_pat, '', bom_removed)\n",
    "    stripped = re.sub(www_pat, '', stripped)\n",
    "    lower_case = stripped.lower()\n",
    "    neg_handled = neg_pattern.sub(lambda x: negations_dic[x.group()], lower_case)\n",
    "    letters_only = re.sub(\"[^a-zA-Z]\", \" \", neg_handled)\n",
    "    words = [x for x  in tok.tokenize(letters_only) if len(x) > 1]\n",
    "    return (\" \".join(words)).strip()"
   ]
  },
  {
   "cell_type": "code",
   "execution_count": 9,
   "metadata": {},
   "outputs": [],
   "source": [
    "def tweetDataCleaner(df):\n",
    "    nums = [0,len(df)]\n",
    "    print (\"Cleaning and parsing the tweets...\\n\")\n",
    "    clean_tweet_texts = [] #initializes an empty array for cleaned tweets\n",
    "    for i in range(nums[0],nums[1]): #for loop through first all the way to the length of the dataframe\n",
    "        if( (i+1)%10000 == 0 ):\n",
    "            print(\"Tweets %d of %d has been processed\" % ( i+1, nums[1] ))                                                                    \n",
    "        clean_tweet_texts.append(tweet_cleaner(df['body'][i]))#appends the now clean tweets into the dataframe\n",
    "    return clean_tweet_texts #returns cleaned tweets"
   ]
  },
  {
   "cell_type": "code",
   "execution_count": 10,
   "metadata": {},
   "outputs": [],
   "source": [
    "def cleanDF(name):\n",
    "    clean_df = pd.DataFrame(tweetDataCleaner(name),columns=['body']) # calls the tweet cleaner caller \n",
    "    clean_df['date'] = name.date_tweeted #generates a date column for each tweet\n",
    "    return clean_df"
   ]
  },
  {
   "cell_type": "code",
   "execution_count": 11,
   "metadata": {
    "scrolled": true
   },
   "outputs": [
    {
     "name": "stdout",
     "output_type": "stream",
     "text": [
      "Cleaning and parsing the tweets...\n",
      "\n",
      "Tweets 10000 of 42320 has been processed\n",
      "Tweets 20000 of 42320 has been processed\n",
      "Tweets 30000 of 42320 has been processed\n",
      "Tweets 40000 of 42320 has been processed\n",
      "Wall time: 24.1 s\n"
     ]
    }
   ],
   "source": [
    "%%time \n",
    "# counts the total wall time of the call\n",
    "twitterData = dataFrameCreatorJSON('tesla.JSON')\n",
    "# calls and creates dataframe of  tweets."
   ]
  },
  {
   "cell_type": "code",
   "execution_count": 12,
   "metadata": {},
   "outputs": [
    {
     "data": {
      "text/html": [
       "<div>\n",
       "<style scoped>\n",
       "    .dataframe tbody tr th:only-of-type {\n",
       "        vertical-align: middle;\n",
       "    }\n",
       "\n",
       "    .dataframe tbody tr th {\n",
       "        vertical-align: top;\n",
       "    }\n",
       "\n",
       "    .dataframe thead th {\n",
       "        text-align: right;\n",
       "    }\n",
       "</style>\n",
       "<table border=\"1\" class=\"dataframe\">\n",
       "  <thead>\n",
       "    <tr style=\"text-align: right;\">\n",
       "      <th></th>\n",
       "      <th>body</th>\n",
       "      <th>date</th>\n",
       "    </tr>\n",
       "  </thead>\n",
       "  <tbody>\n",
       "    <tr>\n",
       "      <th>0</th>\n",
       "      <td>makes reno critical stop on way to</td>\n",
       "      <td>2016-12-30T00:00:00.000Z</td>\n",
       "    </tr>\n",
       "    <tr>\n",
       "      <th>1</th>\n",
       "      <td>nikola tesla invented time machine and ran mul...</td>\n",
       "      <td>2016-12-30T00:00:00.000Z</td>\n",
       "    </tr>\n",
       "    <tr>\n",
       "      <th>2</th>\n",
       "      <td>had dream that kyra got tesla and then crashed it</td>\n",
       "      <td>2016-12-30T00:00:00.000Z</td>\n",
       "    </tr>\n",
       "    <tr>\n",
       "      <th>3</th>\n",
       "      <td>our most read electric car review on autocar b...</td>\n",
       "      <td>2016-12-30T00:00:00.000Z</td>\n",
       "    </tr>\n",
       "    <tr>\n",
       "      <th>4</th>\n",
       "      <td>in kawakawa you can watch tesla charging while...</td>\n",
       "      <td>2016-12-30T00:00:00.000Z</td>\n",
       "    </tr>\n",
       "  </tbody>\n",
       "</table>\n",
       "</div>"
      ],
      "text/plain": [
       "                                                body                      date\n",
       "0                 makes reno critical stop on way to  2016-12-30T00:00:00.000Z\n",
       "1  nikola tesla invented time machine and ran mul...  2016-12-30T00:00:00.000Z\n",
       "2  had dream that kyra got tesla and then crashed it  2016-12-30T00:00:00.000Z\n",
       "3  our most read electric car review on autocar b...  2016-12-30T00:00:00.000Z\n",
       "4  in kawakawa you can watch tesla charging while...  2016-12-30T00:00:00.000Z"
      ]
     },
     "execution_count": 12,
     "metadata": {},
     "output_type": "execute_result"
    }
   ],
   "source": [
    "twitterData.head() # returns the first five tweets"
   ]
  },
  {
   "cell_type": "code",
   "execution_count": 13,
   "metadata": {},
   "outputs": [
    {
     "name": "stdout",
     "output_type": "stream",
     "text": [
      "Wall time: 16.3 s\n"
     ]
    }
   ],
   "source": [
    "%%time \n",
    "# calculates the run time of the reformData method when applied to  dataframe\n",
    "twitterData = reformData(twitterData)"
   ]
  },
  {
   "cell_type": "code",
   "execution_count": 14,
   "metadata": {},
   "outputs": [],
   "source": [
    "twitterData.set_index(pd.DatetimeIndex(twitterData['date']).normalize(), inplace=True) #sets the index of every item in dataframe to the date"
   ]
  },
  {
   "cell_type": "code",
   "execution_count": 15,
   "metadata": {},
   "outputs": [
    {
     "data": {
      "text/html": [
       "<div>\n",
       "<style scoped>\n",
       "    .dataframe tbody tr th:only-of-type {\n",
       "        vertical-align: middle;\n",
       "    }\n",
       "\n",
       "    .dataframe tbody tr th {\n",
       "        vertical-align: top;\n",
       "    }\n",
       "\n",
       "    .dataframe thead th {\n",
       "        text-align: right;\n",
       "    }\n",
       "</style>\n",
       "<table border=\"1\" class=\"dataframe\">\n",
       "  <thead>\n",
       "    <tr style=\"text-align: right;\">\n",
       "      <th></th>\n",
       "      <th>body</th>\n",
       "      <th>date</th>\n",
       "      <th>sentiment</th>\n",
       "      <th>predNum</th>\n",
       "      <th>prediction</th>\n",
       "    </tr>\n",
       "    <tr>\n",
       "      <th>date</th>\n",
       "      <th></th>\n",
       "      <th></th>\n",
       "      <th></th>\n",
       "      <th></th>\n",
       "      <th></th>\n",
       "    </tr>\n",
       "  </thead>\n",
       "  <tbody>\n",
       "    <tr>\n",
       "      <th>2016-12-30</th>\n",
       "      <td>makes reno critical stop on way to</td>\n",
       "      <td>2016-12-30T00:00:00.000Z</td>\n",
       "      <td>neutral</td>\n",
       "      <td>0.197893</td>\n",
       "      <td>4</td>\n",
       "    </tr>\n",
       "    <tr>\n",
       "      <th>2016-12-30</th>\n",
       "      <td>nikola tesla invented time machine and ran mul...</td>\n",
       "      <td>2016-12-30T00:00:00.000Z</td>\n",
       "      <td>neutral</td>\n",
       "      <td>-0.141519</td>\n",
       "      <td>0</td>\n",
       "    </tr>\n",
       "    <tr>\n",
       "      <th>2016-12-30</th>\n",
       "      <td>had dream that kyra got tesla and then crashed it</td>\n",
       "      <td>2016-12-30T00:00:00.000Z</td>\n",
       "      <td>negative</td>\n",
       "      <td>-0.558637</td>\n",
       "      <td>0</td>\n",
       "    </tr>\n",
       "    <tr>\n",
       "      <th>2016-12-30</th>\n",
       "      <td>our most read electric car review on autocar b...</td>\n",
       "      <td>2016-12-30T00:00:00.000Z</td>\n",
       "      <td>positive</td>\n",
       "      <td>0.719384</td>\n",
       "      <td>4</td>\n",
       "    </tr>\n",
       "    <tr>\n",
       "      <th>2016-12-30</th>\n",
       "      <td>in kawakawa you can watch tesla charging while...</td>\n",
       "      <td>2016-12-30T00:00:00.000Z</td>\n",
       "      <td>positive</td>\n",
       "      <td>0.785259</td>\n",
       "      <td>4</td>\n",
       "    </tr>\n",
       "  </tbody>\n",
       "</table>\n",
       "</div>"
      ],
      "text/plain": [
       "                                                         body  \\\n",
       "date                                                            \n",
       "2016-12-30                 makes reno critical stop on way to   \n",
       "2016-12-30  nikola tesla invented time machine and ran mul...   \n",
       "2016-12-30  had dream that kyra got tesla and then crashed it   \n",
       "2016-12-30  our most read electric car review on autocar b...   \n",
       "2016-12-30  in kawakawa you can watch tesla charging while...   \n",
       "\n",
       "                                date sentiment   predNum  prediction  \n",
       "date                                                                  \n",
       "2016-12-30  2016-12-30T00:00:00.000Z   neutral  0.197893           4  \n",
       "2016-12-30  2016-12-30T00:00:00.000Z   neutral -0.141519           0  \n",
       "2016-12-30  2016-12-30T00:00:00.000Z  negative -0.558637           0  \n",
       "2016-12-30  2016-12-30T00:00:00.000Z  positive  0.719384           4  \n",
       "2016-12-30  2016-12-30T00:00:00.000Z  positive  0.785259           4  "
      ]
     },
     "execution_count": 15,
     "metadata": {},
     "output_type": "execute_result"
    }
   ],
   "source": [
    "twitterData.sort_index() # sorts the index from earlies to latest\n",
    "twitterData.head() # returns the first five tweets"
   ]
  },
  {
   "cell_type": "code",
   "execution_count": 16,
   "metadata": {},
   "outputs": [
    {
     "data": {
      "text/plain": [
       "positive    1032\n",
       "neutral      545\n",
       "negative     253\n",
       "Name: sentiment, dtype: int64"
      ]
     },
     "execution_count": 16,
     "metadata": {},
     "output_type": "execute_result"
    }
   ],
   "source": [
    "twitterData.groupby(twitterData.index).head().sentiment.value_counts() #returns the sentiment value counts of the first five tweets"
   ]
  },
  {
   "cell_type": "code",
   "execution_count": 17,
   "metadata": {
    "scrolled": true
   },
   "outputs": [
    {
     "data": {
      "text/plain": [
       "date        sentiment\n",
       "2016-12-30  positive      30\n",
       "            neutral       20\n",
       "            negative       9\n",
       "2016-12-31  positive      30\n",
       "            neutral       22\n",
       "            negative      16\n",
       "2017-01-01  positive      44\n",
       "            neutral       24\n",
       "            negative       9\n",
       "2017-01-02  positive      63\n",
       "            neutral       27\n",
       "            negative      15\n",
       "2017-01-03  positive      52\n",
       "            neutral       36\n",
       "            negative      34\n",
       "2017-01-04  positive     124\n",
       "            neutral       64\n",
       "            negative      44\n",
       "2017-01-05  positive      91\n",
       "            neutral       40\n",
       "            negative      18\n",
       "2017-01-06  positive      60\n",
       "            neutral       19\n",
       "            negative      13\n",
       "2017-01-07  positive      37\n",
       "            neutral       18\n",
       "            negative      14\n",
       "2017-01-08  positive      46\n",
       "            neutral       17\n",
       "            negative       5\n",
       "                        ... \n",
       "2017-12-21  positive      81\n",
       "            neutral       33\n",
       "            negative      25\n",
       "2017-12-22  positive      88\n",
       "            neutral       35\n",
       "            negative      18\n",
       "2017-12-23  positive      69\n",
       "            neutral       31\n",
       "            negative      27\n",
       "2017-12-24  positive      55\n",
       "            neutral       27\n",
       "            negative      17\n",
       "2017-12-25  positive      49\n",
       "            neutral       21\n",
       "            negative       7\n",
       "2017-12-26  positive      93\n",
       "            neutral       30\n",
       "            negative      24\n",
       "2017-12-27  positive      92\n",
       "            neutral       66\n",
       "            negative      20\n",
       "2017-12-28  positive      68\n",
       "            neutral       37\n",
       "            negative      24\n",
       "2017-12-29  positive      57\n",
       "            neutral       28\n",
       "            negative      18\n",
       "2017-12-30  positive      90\n",
       "            neutral       20\n",
       "            negative      18\n",
       "Name: sentiment, Length: 1098, dtype: int64"
      ]
     },
     "execution_count": 17,
     "metadata": {},
     "output_type": "execute_result"
    }
   ],
   "source": [
    "twitterData.groupby(twitterData.index).sentiment.value_counts()# returns a count for each day in index of each column so 320 body means 320 tweets for that day"
   ]
  },
  {
   "cell_type": "code",
   "execution_count": 18,
   "metadata": {},
   "outputs": [
    {
     "name": "stdout",
     "output_type": "stream",
     "text": [
      "<class 'pandas.core.frame.DataFrame'>\n",
      "DatetimeIndex: 42320 entries, 2016-12-30 to 2017-12-30\n",
      "Data columns (total 5 columns):\n",
      "body          42320 non-null object\n",
      "date          42320 non-null object\n",
      "sentiment     42320 non-null object\n",
      "predNum       42320 non-null float64\n",
      "prediction    42320 non-null int64\n",
      "dtypes: float64(1), int64(1), object(3)\n",
      "memory usage: 1.9+ MB\n"
     ]
    }
   ],
   "source": [
    "twitterData.info() #returns the info of the dataframe"
   ]
  },
  {
   "cell_type": "code",
   "execution_count": 19,
   "metadata": {},
   "outputs": [
    {
     "name": "stdout",
     "output_type": "stream",
     "text": [
      "<class 'pandas.core.frame.DataFrame'>\n",
      "Index: 1414 entries, 2015-01-03 to 2018-11-16\n",
      "Data columns (total 3 columns):\n",
      "close          1414 non-null float64\n",
      "pctChange      1414 non-null float64\n",
      "StockChange    1414 non-null object\n",
      "dtypes: float64(2), object(1)\n",
      "memory usage: 44.2+ KB\n"
     ]
    }
   ],
   "source": [
    "# csv = 'finalStockAMZN.csv' \n",
    "csv = 'finalStockTSLA10.csv' \n",
    "# csv = 'finalStockAAPL15.csv' \n",
    "# calling the saved stock file made in the stock class\n",
    "Stock = pd.read_csv(csv,index_col=0)\n",
    "Stock.info()"
   ]
  },
  {
   "cell_type": "code",
   "execution_count": 20,
   "metadata": {
    "scrolled": true
   },
   "outputs": [
    {
     "data": {
      "text/html": [
       "<div>\n",
       "<style scoped>\n",
       "    .dataframe tbody tr th:only-of-type {\n",
       "        vertical-align: middle;\n",
       "    }\n",
       "\n",
       "    .dataframe tbody tr th {\n",
       "        vertical-align: top;\n",
       "    }\n",
       "\n",
       "    .dataframe thead th {\n",
       "        text-align: right;\n",
       "    }\n",
       "</style>\n",
       "<table border=\"1\" class=\"dataframe\">\n",
       "  <thead>\n",
       "    <tr style=\"text-align: right;\">\n",
       "      <th></th>\n",
       "      <th>close</th>\n",
       "      <th>pctChange</th>\n",
       "      <th>StockChange</th>\n",
       "    </tr>\n",
       "  </thead>\n",
       "  <tbody>\n",
       "    <tr>\n",
       "      <th>2015-01-03</th>\n",
       "      <td>216.236667</td>\n",
       "      <td>-0.014014</td>\n",
       "      <td>decrease</td>\n",
       "    </tr>\n",
       "    <tr>\n",
       "      <th>2015-01-04</th>\n",
       "      <td>213.163333</td>\n",
       "      <td>-0.014213</td>\n",
       "      <td>decrease</td>\n",
       "    </tr>\n",
       "    <tr>\n",
       "      <th>2015-01-05</th>\n",
       "      <td>210.090000</td>\n",
       "      <td>-0.014418</td>\n",
       "      <td>decrease</td>\n",
       "    </tr>\n",
       "    <tr>\n",
       "      <th>2015-01-06</th>\n",
       "      <td>211.280000</td>\n",
       "      <td>0.005664</td>\n",
       "      <td>neutral</td>\n",
       "    </tr>\n",
       "    <tr>\n",
       "      <th>2015-01-07</th>\n",
       "      <td>210.950000</td>\n",
       "      <td>-0.001562</td>\n",
       "      <td>neutral</td>\n",
       "    </tr>\n",
       "    <tr>\n",
       "      <th>2015-01-08</th>\n",
       "      <td>210.615000</td>\n",
       "      <td>-0.001588</td>\n",
       "      <td>neutral</td>\n",
       "    </tr>\n",
       "    <tr>\n",
       "      <th>2015-01-09</th>\n",
       "      <td>206.660000</td>\n",
       "      <td>-0.018778</td>\n",
       "      <td>decrease</td>\n",
       "    </tr>\n",
       "    <tr>\n",
       "      <th>2015-01-10</th>\n",
       "      <td>205.176667</td>\n",
       "      <td>-0.007178</td>\n",
       "      <td>neutral</td>\n",
       "    </tr>\n",
       "    <tr>\n",
       "      <th>2015-01-11</th>\n",
       "      <td>203.693333</td>\n",
       "      <td>-0.007230</td>\n",
       "      <td>neutral</td>\n",
       "    </tr>\n",
       "    <tr>\n",
       "      <th>2015-01-12</th>\n",
       "      <td>202.210000</td>\n",
       "      <td>-0.007282</td>\n",
       "      <td>neutral</td>\n",
       "    </tr>\n",
       "    <tr>\n",
       "      <th>2015-01-13</th>\n",
       "      <td>204.250000</td>\n",
       "      <td>0.010089</td>\n",
       "      <td>positive</td>\n",
       "    </tr>\n",
       "    <tr>\n",
       "      <th>2015-01-14</th>\n",
       "      <td>192.690000</td>\n",
       "      <td>-0.056597</td>\n",
       "      <td>decrease</td>\n",
       "    </tr>\n",
       "    <tr>\n",
       "      <th>2015-01-15</th>\n",
       "      <td>191.870000</td>\n",
       "      <td>-0.004256</td>\n",
       "      <td>neutral</td>\n",
       "    </tr>\n",
       "    <tr>\n",
       "      <th>2015-01-16</th>\n",
       "      <td>193.070000</td>\n",
       "      <td>0.006254</td>\n",
       "      <td>neutral</td>\n",
       "    </tr>\n",
       "    <tr>\n",
       "      <th>2015-01-17</th>\n",
       "      <td>192.785000</td>\n",
       "      <td>-0.001476</td>\n",
       "      <td>neutral</td>\n",
       "    </tr>\n",
       "    <tr>\n",
       "      <th>2015-01-18</th>\n",
       "      <td>192.500000</td>\n",
       "      <td>-0.001478</td>\n",
       "      <td>neutral</td>\n",
       "    </tr>\n",
       "    <tr>\n",
       "      <th>2015-01-19</th>\n",
       "      <td>192.215000</td>\n",
       "      <td>-0.001481</td>\n",
       "      <td>neutral</td>\n",
       "    </tr>\n",
       "    <tr>\n",
       "      <th>2015-01-20</th>\n",
       "      <td>191.930000</td>\n",
       "      <td>-0.001483</td>\n",
       "      <td>neutral</td>\n",
       "    </tr>\n",
       "    <tr>\n",
       "      <th>2015-01-21</th>\n",
       "      <td>196.570000</td>\n",
       "      <td>0.024175</td>\n",
       "      <td>positive</td>\n",
       "    </tr>\n",
       "    <tr>\n",
       "      <th>2015-01-22</th>\n",
       "      <td>201.620000</td>\n",
       "      <td>0.025691</td>\n",
       "      <td>positive</td>\n",
       "    </tr>\n",
       "  </tbody>\n",
       "</table>\n",
       "</div>"
      ],
      "text/plain": [
       "                 close  pctChange StockChange\n",
       "2015-01-03  216.236667  -0.014014    decrease\n",
       "2015-01-04  213.163333  -0.014213    decrease\n",
       "2015-01-05  210.090000  -0.014418    decrease\n",
       "2015-01-06  211.280000   0.005664     neutral\n",
       "2015-01-07  210.950000  -0.001562     neutral\n",
       "2015-01-08  210.615000  -0.001588     neutral\n",
       "2015-01-09  206.660000  -0.018778    decrease\n",
       "2015-01-10  205.176667  -0.007178     neutral\n",
       "2015-01-11  203.693333  -0.007230     neutral\n",
       "2015-01-12  202.210000  -0.007282     neutral\n",
       "2015-01-13  204.250000   0.010089    positive\n",
       "2015-01-14  192.690000  -0.056597    decrease\n",
       "2015-01-15  191.870000  -0.004256     neutral\n",
       "2015-01-16  193.070000   0.006254     neutral\n",
       "2015-01-17  192.785000  -0.001476     neutral\n",
       "2015-01-18  192.500000  -0.001478     neutral\n",
       "2015-01-19  192.215000  -0.001481     neutral\n",
       "2015-01-20  191.930000  -0.001483     neutral\n",
       "2015-01-21  196.570000   0.024175    positive\n",
       "2015-01-22  201.620000   0.025691    positive"
      ]
     },
     "execution_count": 20,
     "metadata": {},
     "output_type": "execute_result"
    }
   ],
   "source": [
    "Stock.sort_index()\n",
    "Stock.head(20)#stock of twitterData stock pct change"
   ]
  },
  {
   "cell_type": "code",
   "execution_count": 21,
   "metadata": {},
   "outputs": [
    {
     "data": {
      "text/plain": [
       "neutral     786\n",
       "positive    328\n",
       "decrease    300\n",
       "Name: StockChange, dtype: int64"
      ]
     },
     "execution_count": 21,
     "metadata": {},
     "output_type": "execute_result"
    }
   ],
   "source": [
    "Stock.StockChange.value_counts()#stock closing price"
   ]
  },
  {
   "cell_type": "code",
   "execution_count": 22,
   "metadata": {},
   "outputs": [],
   "source": [
    "twitterData = twitterData.merge(Stock,left_index=True, right_index=True)\n",
    "# #merging all stock dataframes with twitterData dataframe by date"
   ]
  },
  {
   "cell_type": "code",
   "execution_count": 23,
   "metadata": {
    "scrolled": true
   },
   "outputs": [
    {
     "data": {
      "text/html": [
       "<div>\n",
       "<style scoped>\n",
       "    .dataframe tbody tr th:only-of-type {\n",
       "        vertical-align: middle;\n",
       "    }\n",
       "\n",
       "    .dataframe tbody tr th {\n",
       "        vertical-align: top;\n",
       "    }\n",
       "\n",
       "    .dataframe thead th {\n",
       "        text-align: right;\n",
       "    }\n",
       "</style>\n",
       "<table border=\"1\" class=\"dataframe\">\n",
       "  <thead>\n",
       "    <tr style=\"text-align: right;\">\n",
       "      <th></th>\n",
       "      <th>body</th>\n",
       "      <th>date</th>\n",
       "      <th>sentiment</th>\n",
       "      <th>predNum</th>\n",
       "      <th>prediction</th>\n",
       "      <th>close</th>\n",
       "      <th>pctChange</th>\n",
       "      <th>StockChange</th>\n",
       "    </tr>\n",
       "  </thead>\n",
       "  <tbody>\n",
       "    <tr>\n",
       "      <th>2016-12-30</th>\n",
       "      <td>makes reno critical stop on way to</td>\n",
       "      <td>2016-12-30T00:00:00.000Z</td>\n",
       "      <td>neutral</td>\n",
       "      <td>0.197893</td>\n",
       "      <td>4</td>\n",
       "      <td>213.69</td>\n",
       "      <td>-0.004612</td>\n",
       "      <td>neutral</td>\n",
       "    </tr>\n",
       "    <tr>\n",
       "      <th>2016-12-30</th>\n",
       "      <td>nikola tesla invented time machine and ran mul...</td>\n",
       "      <td>2016-12-30T00:00:00.000Z</td>\n",
       "      <td>neutral</td>\n",
       "      <td>-0.141519</td>\n",
       "      <td>0</td>\n",
       "      <td>213.69</td>\n",
       "      <td>-0.004612</td>\n",
       "      <td>neutral</td>\n",
       "    </tr>\n",
       "    <tr>\n",
       "      <th>2016-12-30</th>\n",
       "      <td>had dream that kyra got tesla and then crashed it</td>\n",
       "      <td>2016-12-30T00:00:00.000Z</td>\n",
       "      <td>negative</td>\n",
       "      <td>-0.558637</td>\n",
       "      <td>0</td>\n",
       "      <td>213.69</td>\n",
       "      <td>-0.004612</td>\n",
       "      <td>neutral</td>\n",
       "    </tr>\n",
       "    <tr>\n",
       "      <th>2016-12-30</th>\n",
       "      <td>our most read electric car review on autocar b...</td>\n",
       "      <td>2016-12-30T00:00:00.000Z</td>\n",
       "      <td>positive</td>\n",
       "      <td>0.719384</td>\n",
       "      <td>4</td>\n",
       "      <td>213.69</td>\n",
       "      <td>-0.004612</td>\n",
       "      <td>neutral</td>\n",
       "    </tr>\n",
       "    <tr>\n",
       "      <th>2016-12-30</th>\n",
       "      <td>in kawakawa you can watch tesla charging while...</td>\n",
       "      <td>2016-12-30T00:00:00.000Z</td>\n",
       "      <td>positive</td>\n",
       "      <td>0.785259</td>\n",
       "      <td>4</td>\n",
       "      <td>213.69</td>\n",
       "      <td>-0.004612</td>\n",
       "      <td>neutral</td>\n",
       "    </tr>\n",
       "  </tbody>\n",
       "</table>\n",
       "</div>"
      ],
      "text/plain": [
       "                                                         body  \\\n",
       "2016-12-30                 makes reno critical stop on way to   \n",
       "2016-12-30  nikola tesla invented time machine and ran mul...   \n",
       "2016-12-30  had dream that kyra got tesla and then crashed it   \n",
       "2016-12-30  our most read electric car review on autocar b...   \n",
       "2016-12-30  in kawakawa you can watch tesla charging while...   \n",
       "\n",
       "                                date sentiment   predNum  prediction   close  \\\n",
       "2016-12-30  2016-12-30T00:00:00.000Z   neutral  0.197893           4  213.69   \n",
       "2016-12-30  2016-12-30T00:00:00.000Z   neutral -0.141519           0  213.69   \n",
       "2016-12-30  2016-12-30T00:00:00.000Z  negative -0.558637           0  213.69   \n",
       "2016-12-30  2016-12-30T00:00:00.000Z  positive  0.719384           4  213.69   \n",
       "2016-12-30  2016-12-30T00:00:00.000Z  positive  0.785259           4  213.69   \n",
       "\n",
       "            pctChange StockChange  \n",
       "2016-12-30  -0.004612     neutral  \n",
       "2016-12-30  -0.004612     neutral  \n",
       "2016-12-30  -0.004612     neutral  \n",
       "2016-12-30  -0.004612     neutral  \n",
       "2016-12-30  -0.004612     neutral  "
      ]
     },
     "execution_count": 23,
     "metadata": {},
     "output_type": "execute_result"
    }
   ],
   "source": [
    "twitterData.head()"
   ]
  },
  {
   "cell_type": "code",
   "execution_count": 24,
   "metadata": {
    "scrolled": true
   },
   "outputs": [
    {
     "data": {
      "text/plain": [
       " 0    23735\n",
       " 1    10906\n",
       "-1     7679\n",
       "Name: Change, dtype: int64"
      ]
     },
     "execution_count": 24,
     "metadata": {},
     "output_type": "execute_result"
    }
   ],
   "source": [
    "twitterData.columns = ['body','date','sentiment','predNum','prediction','price','pricePCTch','Change']#changing column headers of twitterData\n",
    "twitterData = twitterData.replace(['positive','neutral','decrease', 'negative'],[1,0,-1,-1])#replacing all names of negative positive and neutral with 1,0,-1\n",
    "twitterData.Change.value_counts()"
   ]
  },
  {
   "cell_type": "code",
   "execution_count": 25,
   "metadata": {},
   "outputs": [
    {
     "data": {
      "text/plain": [
       "<matplotlib.axes._subplots.AxesSubplot at 0x25dce3718d0>"
      ]
     },
     "execution_count": 25,
     "metadata": {},
     "output_type": "execute_result"
    },
    {
     "data": {
      "image/png": "[encoded data removed]",
      "text/plain": [
       "<Figure size 432x288 with 1 Axes>"
      ]
     },
     "metadata": {},
     "output_type": "display_data"
    }
   ],
   "source": [
    "twitterData.groupby(twitterData.index).sentiment.value_counts().head(30).unstack().plot.bar()\n",
    "#plotting ddaily sentiment amounts for first 10 days"
   ]
  },
  {
   "cell_type": "code",
   "execution_count": 26,
   "metadata": {},
   "outputs": [
    {
     "data": {
      "text/plain": [
       "<matplotlib.axes._subplots.AxesSubplot at 0x25dcdc01048>"
      ]
     },
     "execution_count": 26,
     "metadata": {},
     "output_type": "execute_result"
    },
    {
     "data": {
      "image/png": "[encoded data removed]",
      "text/plain": [
       "<Figure size 432x288 with 1 Axes>"
      ]
     },
     "metadata": {},
     "output_type": "display_data"
    }
   ],
   "source": [
    "twitterData.sentiment.value_counts().plot.pie(labels=['neutral','positive','negative'],autopct='%.2f')\n",
    "#showing sentimennt percents for whole dataframe"
   ]
  },
  {
   "cell_type": "code",
   "execution_count": 27,
   "metadata": {},
   "outputs": [
    {
     "data": {
      "text/plain": [
       "<matplotlib.axes._subplots.AxesSubplot at 0x25dcde9f1d0>"
      ]
     },
     "execution_count": 27,
     "metadata": {},
     "output_type": "execute_result"
    },
    {
     "data": {
      "image/png": "[encoded data removed]",
      "text/plain": [
       "<Figure size 432x288 with 1 Axes>"
      ]
     },
     "metadata": {},
     "output_type": "display_data"
    }
   ],
   "source": [
    "twitterData.groupby(twitterData.index).sentiment.value_counts().head(30).unstack().plot()\n",
    "#plotting line graph of sentiments by day"
   ]
  },
  {
   "cell_type": "code",
   "execution_count": 28,
   "metadata": {},
   "outputs": [
    {
     "data": {
      "image/png": "[encoded data removed]",
      "text/plain": [
       "<Figure size 432x288 with 1 Axes>"
      ]
     },
     "metadata": {},
     "output_type": "display_data"
    }
   ],
   "source": [
    "Stock.close.plot()\n",
    "plt.show()\n",
    "#closing prices of the stock plotted"
   ]
  },
  {
   "cell_type": "code",
   "execution_count": 29,
   "metadata": {},
   "outputs": [
    {
     "data": {
      "text/html": [
       "<div>\n",
       "<style scoped>\n",
       "    .dataframe tbody tr th:only-of-type {\n",
       "        vertical-align: middle;\n",
       "    }\n",
       "\n",
       "    .dataframe tbody tr th {\n",
       "        vertical-align: top;\n",
       "    }\n",
       "\n",
       "    .dataframe thead th {\n",
       "        text-align: right;\n",
       "    }\n",
       "</style>\n",
       "<table border=\"1\" class=\"dataframe\">\n",
       "  <thead>\n",
       "    <tr style=\"text-align: right;\">\n",
       "      <th></th>\n",
       "      <th>body</th>\n",
       "      <th>date</th>\n",
       "      <th>sentiment</th>\n",
       "      <th>predNum</th>\n",
       "      <th>prediction</th>\n",
       "      <th>price</th>\n",
       "      <th>pricePCTch</th>\n",
       "      <th>Change</th>\n",
       "    </tr>\n",
       "  </thead>\n",
       "  <tbody>\n",
       "    <tr>\n",
       "      <th>2016-12-30</th>\n",
       "      <td>makes reno critical stop on way to</td>\n",
       "      <td>2016-12-30T00:00:00.000Z</td>\n",
       "      <td>0</td>\n",
       "      <td>0.197893</td>\n",
       "      <td>4</td>\n",
       "      <td>213.69</td>\n",
       "      <td>-0.004612</td>\n",
       "      <td>0</td>\n",
       "    </tr>\n",
       "    <tr>\n",
       "      <th>2016-12-30</th>\n",
       "      <td>nikola tesla invented time machine and ran mul...</td>\n",
       "      <td>2016-12-30T00:00:00.000Z</td>\n",
       "      <td>0</td>\n",
       "      <td>-0.141519</td>\n",
       "      <td>0</td>\n",
       "      <td>213.69</td>\n",
       "      <td>-0.004612</td>\n",
       "      <td>0</td>\n",
       "    </tr>\n",
       "    <tr>\n",
       "      <th>2016-12-30</th>\n",
       "      <td>had dream that kyra got tesla and then crashed it</td>\n",
       "      <td>2016-12-30T00:00:00.000Z</td>\n",
       "      <td>-1</td>\n",
       "      <td>-0.558637</td>\n",
       "      <td>0</td>\n",
       "      <td>213.69</td>\n",
       "      <td>-0.004612</td>\n",
       "      <td>0</td>\n",
       "    </tr>\n",
       "    <tr>\n",
       "      <th>2016-12-30</th>\n",
       "      <td>our most read electric car review on autocar b...</td>\n",
       "      <td>2016-12-30T00:00:00.000Z</td>\n",
       "      <td>1</td>\n",
       "      <td>0.719384</td>\n",
       "      <td>4</td>\n",
       "      <td>213.69</td>\n",
       "      <td>-0.004612</td>\n",
       "      <td>0</td>\n",
       "    </tr>\n",
       "    <tr>\n",
       "      <th>2016-12-30</th>\n",
       "      <td>in kawakawa you can watch tesla charging while...</td>\n",
       "      <td>2016-12-30T00:00:00.000Z</td>\n",
       "      <td>1</td>\n",
       "      <td>0.785259</td>\n",
       "      <td>4</td>\n",
       "      <td>213.69</td>\n",
       "      <td>-0.004612</td>\n",
       "      <td>0</td>\n",
       "    </tr>\n",
       "  </tbody>\n",
       "</table>\n",
       "</div>"
      ],
      "text/plain": [
       "                                                         body  \\\n",
       "2016-12-30                 makes reno critical stop on way to   \n",
       "2016-12-30  nikola tesla invented time machine and ran mul...   \n",
       "2016-12-30  had dream that kyra got tesla and then crashed it   \n",
       "2016-12-30  our most read electric car review on autocar b...   \n",
       "2016-12-30  in kawakawa you can watch tesla charging while...   \n",
       "\n",
       "                                date  sentiment   predNum  prediction   price  \\\n",
       "2016-12-30  2016-12-30T00:00:00.000Z          0  0.197893           4  213.69   \n",
       "2016-12-30  2016-12-30T00:00:00.000Z          0 -0.141519           0  213.69   \n",
       "2016-12-30  2016-12-30T00:00:00.000Z         -1 -0.558637           0  213.69   \n",
       "2016-12-30  2016-12-30T00:00:00.000Z          1  0.719384           4  213.69   \n",
       "2016-12-30  2016-12-30T00:00:00.000Z          1  0.785259           4  213.69   \n",
       "\n",
       "            pricePCTch  Change  \n",
       "2016-12-30   -0.004612       0  \n",
       "2016-12-30   -0.004612       0  \n",
       "2016-12-30   -0.004612       0  \n",
       "2016-12-30   -0.004612       0  \n",
       "2016-12-30   -0.004612       0  "
      ]
     },
     "execution_count": 29,
     "metadata": {},
     "output_type": "execute_result"
    }
   ],
   "source": [
    "twitterData.sort_index()#sorting index by date\n",
    "twitterData.head()"
   ]
  },
  {
   "cell_type": "code",
   "execution_count": 30,
   "metadata": {},
   "outputs": [
    {
     "data": {
      "text/plain": [
       " 1    24848\n",
       " 0    11895\n",
       "-1     5577\n",
       "Name: sentiment, dtype: int64"
      ]
     },
     "execution_count": 30,
     "metadata": {},
     "output_type": "execute_result"
    }
   ],
   "source": [
    "twitterData.sentiment.value_counts()"
   ]
  },
  {
   "cell_type": "code",
   "execution_count": 31,
   "metadata": {
    "scrolled": true
   },
   "outputs": [
    {
     "data": {
      "text/plain": [
       "<matplotlib.axes._subplots.AxesSubplot at 0x25dcde94390>"
      ]
     },
     "execution_count": 31,
     "metadata": {},
     "output_type": "execute_result"
    },
    {
     "data": {
      "image/png": "[encoded data removed]",
      "text/plain": [
       "<Figure size 432x288 with 1 Axes>"
      ]
     },
     "metadata": {},
     "output_type": "display_data"
    }
   ],
   "source": [
    "twitterData.groupby(twitterData.index).head(10).predNum.hist(bins=[-4,-3.5,-3,-2.5,-2,-1.5,-1,-0.75,-0.5,-0.25,0,0.25,0.5,0.75,1,1.5,2,2.5,3,3.5,4])\n",
    "# HISTOGRAM OF SENTIMENT\n",
    "#use histogram to predict  price by each bin being a feature"
   ]
  },
  {
   "cell_type": "code",
   "execution_count": 32,
   "metadata": {
    "scrolled": true
   },
   "outputs": [],
   "source": [
    "binSize= pd.DataFrame(twitterData.groupby(twitterData.index).predNum.value_counts(bins=[-4,-3.5,-3,-2.5,-2,-1.5,-1,-0.75,-0.5,-0.25,0,0.25,0.5,0.75,1,1.5,2,2.5,3,3.5,4], sort=False))\n",
    "#placing each days bins in a dataframe"
   ]
  },
  {
   "cell_type": "code",
   "execution_count": 33,
   "metadata": {},
   "outputs": [],
   "source": [
    "#Server=tcp:feels.database.windows.net,1433;Initial Catalog=twitter;Persist Security Info=False;User ID=NYIT;Password=Pineapple!;MultipleActiveResultSets=False;Encrypt=True;TrustServerCertificate=False;Connection Timeout=30;"
   ]
  },
  {
   "cell_type": "code",
   "execution_count": 34,
   "metadata": {
    "scrolled": false
   },
   "outputs": [],
   "source": [
    "binSize.columns = ['predNumAmmount']#renaming columns to predNumAmmount"
   ]
  },
  {
   "cell_type": "code",
   "execution_count": 35,
   "metadata": {},
   "outputs": [],
   "source": [
    "newBin = pd.DataFrame(binSize['predNumAmmount'])\n",
    "newBin = newBin.reset_index()\n",
    "newBin = newBin.pivot(index='level_0', columns='predNum', values='predNumAmmount')\n",
    "#reset index and pivot dataframe to make it easier to work with"
   ]
  },
  {
   "cell_type": "code",
   "execution_count": 36,
   "metadata": {},
   "outputs": [],
   "source": [
    "newBin.sort_index()\n",
    "newBin.index.name = None\n",
    "newBin.columns.name = None\n",
    "newBin.columns = ['(-4.001, -3.5]','(-3.5, -3.0]','(-3.0, -2.5]','(-2.5, -2.0',\n",
    "                '(-2.0, -1.5]','(-1.5, -1.0]','(-1.0, -0.75]','(-0.75, -0.5]','(-0.5, -0.25]',\n",
    "                                   '(-0.25, 0.0]','(0.0, 0.25]','(0.25, 0.5]','(0.5, 0.75]','(0.75, 1.0]','(1.0, 1.5]',\n",
    "                                   '(1.5, 2.0]','(2.0, 2.5]','(2.5, 3.0]','(3.0, 3.5]','(3.5, 4.0]']\n",
    "#renaming the columns and cleaning the dataframe"
   ]
  },
  {
   "cell_type": "code",
   "execution_count": 37,
   "metadata": {},
   "outputs": [],
   "source": [
    "twitterDataMean = twitterData.groupby(twitterData.index).mean()\n",
    "#creates a dataframe of the mean values of twitterData"
   ]
  },
  {
   "cell_type": "code",
   "execution_count": 38,
   "metadata": {},
   "outputs": [],
   "source": [
    "twitterDataMax =  twitterData.groupby(twitterData.index).max()\n",
    "#creates a dataframe of the max values of twitterData"
   ]
  },
  {
   "cell_type": "code",
   "execution_count": 39,
   "metadata": {},
   "outputs": [],
   "source": [
    "twitterDataMin =  twitterData.groupby(twitterData.index).min()\n",
    "#creates a dataframe of the min values of twitterData"
   ]
  },
  {
   "cell_type": "code",
   "execution_count": 40,
   "metadata": {},
   "outputs": [],
   "source": [
    "twitterDataMedian =  twitterData.groupby(twitterData.index).median()\n",
    "#creates a dataframe of the median values of twitterData"
   ]
  },
  {
   "cell_type": "code",
   "execution_count": 41,
   "metadata": {},
   "outputs": [],
   "source": [
    "twitterData['averageSentiment']= twitterDataMean['predNum']\n",
    "#creates new column in twitterData dataframe using twitterData mean value of predNum"
   ]
  },
  {
   "cell_type": "code",
   "execution_count": 42,
   "metadata": {},
   "outputs": [],
   "source": [
    "twitterData = twitterData.merge(newBin,left_index=True, right_index=True)\n",
    "#merge twitterData with newBin dataframe"
   ]
  },
  {
   "cell_type": "code",
   "execution_count": 43,
   "metadata": {},
   "outputs": [],
   "source": [
    "twitterDataMean= twitterDataMean.merge(newBin,left_index=True, right_index=True)\n",
    "twitterDataMean['maxPred'] = twitterDataMax['predNum']\n",
    "twitterDataMean['minPred'] = twitterDataMin['predNum']\n",
    "twitterDataMean['range'] = twitterDataMax['predNum']-twitterDataMin['predNum']\n",
    "twitterDataMean['STD'] = twitterData.groupby(twitterData.index).predNum.std().fillna(method='ffill')\n",
    "#create new columns in twitterDataMean for features"
   ]
  },
  {
   "cell_type": "code",
   "execution_count": 44,
   "metadata": {},
   "outputs": [],
   "source": [
    "twitterData['maxPred'] = twitterDataMax['predNum']\n",
    "twitterData['minPred'] = twitterDataMin['predNum']\n",
    "twitterData['range'] = twitterDataMax['predNum']-twitterDataMin['predNum']\n",
    "twitterData['STD'] = twitterData.groupby(twitterData.index).predNum.std().fillna(method='ffill')\n",
    "#puts new columnss in twitterData dataframe"
   ]
  },
  {
   "cell_type": "code",
   "execution_count": 45,
   "metadata": {},
   "outputs": [
    {
     "data": {
      "text/plain": [
       " 0.0    220\n",
       " 1.0     88\n",
       "-1.0     58\n",
       "Name: Change, dtype: int64"
      ]
     },
     "execution_count": 45,
     "metadata": {},
     "output_type": "execute_result"
    }
   ],
   "source": [
    "twitterDataMean['Change'].value_counts()"
   ]
  },
  {
   "cell_type": "code",
   "execution_count": 46,
   "metadata": {},
   "outputs": [],
   "source": [
    "# twitterDataMean = twitterDataMean.drop(twitterDataMean.query('Change == 0').sample(frac=.9, random_state = 1).index)\n",
    "# twitterDataMean = twitterDataMean.drop(twitterDataMean.query('Change == -1.0').sample(frac=.05,random_state = 1).index)\n",
    "# twitterDataMean = twitterDataMean.drop(twitterDataMean.query('Change == 0').sample(frac=.87,random_state = 1).index)\n",
    "twitterDataMean = twitterDataMean.drop(twitterDataMean.query('Change == 0').sample(frac=.736, random_state = 1 ).index)\n",
    "# twitterDataMean = twitterDataMean.drop(twitterDataMean.query('Change == 1').sample(frac=.34, random_state = 1 ).index)"
   ]
  },
  {
   "cell_type": "code",
   "execution_count": 47,
   "metadata": {},
   "outputs": [
    {
     "data": {
      "text/plain": [
       " 1.0    88\n",
       "-1.0    58\n",
       " 0.0    58\n",
       "Name: Change, dtype: int64"
      ]
     },
     "execution_count": 47,
     "metadata": {},
     "output_type": "execute_result"
    }
   ],
   "source": [
    "twitterDataMean['Change'].value_counts()"
   ]
  },
  {
   "cell_type": "code",
   "execution_count": 48,
   "metadata": {
    "scrolled": true
   },
   "outputs": [],
   "source": [
    "# twitterDataMean"
   ]
  },
  {
   "cell_type": "code",
   "execution_count": 49,
   "metadata": {},
   "outputs": [],
   "source": [
    "featureCols = ['(-4.001, -3.5]','(-3.5, -3.0]','(-3.0, -2.5]','(-2.5, -2.0',\n",
    "                '(-2.0, -1.5]','(-1.5, -1.0]','(-1.0, -0.75]','(-0.75, -0.5]','(-0.5, -0.25]',\n",
    "                                   '(-0.25, 0.0]','(0.0, 0.25]','(0.25, 0.5]','(0.5, 0.75]','(0.75, 1.0]','(1.0, 1.5]',\n",
    "                                   '(1.5, 2.0]','(2.0, 2.5]','(2.5, 3.0]','(3.0, 3.5]','(3.5, 4.0]','predNum','maxPred','minPred','range','STD']\n",
    "#features to be selected"
   ]
  },
  {
   "cell_type": "code",
   "execution_count": 51,
   "metadata": {},
   "outputs": [
    {
     "name": "stdout",
     "output_type": "stream",
     "text": [
      "(163, 25)\n",
      "(41, 25)\n",
      "(163,)\n",
      "(41,)\n"
     ]
    }
   ],
   "source": [
    "X = twitterDataMean[featureCols]#features to be used by model\n",
    "y = twitterDataMean['Change']#target values\n",
    "\n",
    "\n",
    "X_train2, X_test2, y_train2, y_test2 = train_test_split(X, y, test_size=0.2, random_state=6)\n",
    "#splitting into train and test\n",
    "print(X_train2.shape)\n",
    "print(X_test2.shape)\n",
    "print(y_train2.shape)\n",
    "print(y_test2.shape)"
   ]
  },
  {
   "cell_type": "code",
   "execution_count": 52,
   "metadata": {},
   "outputs": [
    {
     "data": {
      "text/plain": [
       " 1.0    88\n",
       "-1.0    58\n",
       " 0.0    58\n",
       "Name: Change, dtype: int64"
      ]
     },
     "execution_count": 52,
     "metadata": {},
     "output_type": "execute_result"
    }
   ],
   "source": [
    "twitterDataMean['Change'].value_counts()"
   ]
  },
  {
   "cell_type": "code",
   "execution_count": 53,
   "metadata": {},
   "outputs": [
    {
     "data": {
      "text/html": [
       "<div>\n",
       "<style scoped>\n",
       "    .dataframe tbody tr th:only-of-type {\n",
       "        vertical-align: middle;\n",
       "    }\n",
       "\n",
       "    .dataframe tbody tr th {\n",
       "        vertical-align: top;\n",
       "    }\n",
       "\n",
       "    .dataframe thead th {\n",
       "        text-align: right;\n",
       "    }\n",
       "</style>\n",
       "<table border=\"1\" class=\"dataframe\">\n",
       "  <thead>\n",
       "    <tr style=\"text-align: right;\">\n",
       "      <th></th>\n",
       "      <th>(-4.001, -3.5]</th>\n",
       "      <th>(-3.5, -3.0]</th>\n",
       "      <th>(-3.0, -2.5]</th>\n",
       "      <th>(-2.5, -2.0</th>\n",
       "      <th>(-2.0, -1.5]</th>\n",
       "      <th>(-1.5, -1.0]</th>\n",
       "      <th>(-1.0, -0.75]</th>\n",
       "      <th>(-0.75, -0.5]</th>\n",
       "      <th>(-0.5, -0.25]</th>\n",
       "      <th>(-0.25, 0.0]</th>\n",
       "      <th>...</th>\n",
       "      <th>(1.5, 2.0]</th>\n",
       "      <th>(2.0, 2.5]</th>\n",
       "      <th>(2.5, 3.0]</th>\n",
       "      <th>(3.0, 3.5]</th>\n",
       "      <th>(3.5, 4.0]</th>\n",
       "      <th>predNum</th>\n",
       "      <th>maxPred</th>\n",
       "      <th>minPred</th>\n",
       "      <th>range</th>\n",
       "      <th>STD</th>\n",
       "    </tr>\n",
       "  </thead>\n",
       "  <tbody>\n",
       "    <tr>\n",
       "      <th>2016-12-31</th>\n",
       "      <td>0</td>\n",
       "      <td>0</td>\n",
       "      <td>1</td>\n",
       "      <td>0</td>\n",
       "      <td>2</td>\n",
       "      <td>2</td>\n",
       "      <td>7</td>\n",
       "      <td>5</td>\n",
       "      <td>9</td>\n",
       "      <td>11</td>\n",
       "      <td>...</td>\n",
       "      <td>0</td>\n",
       "      <td>0</td>\n",
       "      <td>0</td>\n",
       "      <td>0</td>\n",
       "      <td>0</td>\n",
       "      <td>0.189959</td>\n",
       "      <td>1.878213</td>\n",
       "      <td>-2.309346</td>\n",
       "      <td>4.187560</td>\n",
       "      <td>0.727591</td>\n",
       "    </tr>\n",
       "    <tr>\n",
       "      <th>2017-01-02</th>\n",
       "      <td>0</td>\n",
       "      <td>0</td>\n",
       "      <td>0</td>\n",
       "      <td>0</td>\n",
       "      <td>1</td>\n",
       "      <td>0</td>\n",
       "      <td>4</td>\n",
       "      <td>10</td>\n",
       "      <td>9</td>\n",
       "      <td>15</td>\n",
       "      <td>...</td>\n",
       "      <td>0</td>\n",
       "      <td>0</td>\n",
       "      <td>0</td>\n",
       "      <td>0</td>\n",
       "      <td>0</td>\n",
       "      <td>0.389755</td>\n",
       "      <td>1.718506</td>\n",
       "      <td>-1.152010</td>\n",
       "      <td>2.870517</td>\n",
       "      <td>0.550594</td>\n",
       "    </tr>\n",
       "    <tr>\n",
       "      <th>2017-01-04</th>\n",
       "      <td>0</td>\n",
       "      <td>0</td>\n",
       "      <td>0</td>\n",
       "      <td>2</td>\n",
       "      <td>7</td>\n",
       "      <td>4</td>\n",
       "      <td>10</td>\n",
       "      <td>27</td>\n",
       "      <td>29</td>\n",
       "      <td>27</td>\n",
       "      <td>...</td>\n",
       "      <td>0</td>\n",
       "      <td>0</td>\n",
       "      <td>0</td>\n",
       "      <td>0</td>\n",
       "      <td>0</td>\n",
       "      <td>0.260681</td>\n",
       "      <td>1.586985</td>\n",
       "      <td>-1.669527</td>\n",
       "      <td>3.256511</td>\n",
       "      <td>0.624962</td>\n",
       "    </tr>\n",
       "    <tr>\n",
       "      <th>2017-01-07</th>\n",
       "      <td>0</td>\n",
       "      <td>0</td>\n",
       "      <td>0</td>\n",
       "      <td>1</td>\n",
       "      <td>6</td>\n",
       "      <td>0</td>\n",
       "      <td>5</td>\n",
       "      <td>4</td>\n",
       "      <td>5</td>\n",
       "      <td>11</td>\n",
       "      <td>...</td>\n",
       "      <td>0</td>\n",
       "      <td>0</td>\n",
       "      <td>0</td>\n",
       "      <td>0</td>\n",
       "      <td>0</td>\n",
       "      <td>0.207788</td>\n",
       "      <td>1.468936</td>\n",
       "      <td>-1.822170</td>\n",
       "      <td>3.291105</td>\n",
       "      <td>0.695756</td>\n",
       "    </tr>\n",
       "    <tr>\n",
       "      <th>2017-01-08</th>\n",
       "      <td>0</td>\n",
       "      <td>0</td>\n",
       "      <td>0</td>\n",
       "      <td>0</td>\n",
       "      <td>1</td>\n",
       "      <td>0</td>\n",
       "      <td>1</td>\n",
       "      <td>3</td>\n",
       "      <td>8</td>\n",
       "      <td>7</td>\n",
       "      <td>...</td>\n",
       "      <td>0</td>\n",
       "      <td>0</td>\n",
       "      <td>0</td>\n",
       "      <td>0</td>\n",
       "      <td>0</td>\n",
       "      <td>0.453583</td>\n",
       "      <td>1.584742</td>\n",
       "      <td>-1.281339</td>\n",
       "      <td>2.866082</td>\n",
       "      <td>0.515332</td>\n",
       "    </tr>\n",
       "  </tbody>\n",
       "</table>\n",
       "<p>5 rows × 25 columns</p>\n",
       "</div>"
      ],
      "text/plain": [
       "            (-4.001, -3.5]  (-3.5, -3.0]  (-3.0, -2.5]  (-2.5, -2.0  \\\n",
       "2016-12-31               0             0             1            0   \n",
       "2017-01-02               0             0             0            0   \n",
       "2017-01-04               0             0             0            2   \n",
       "2017-01-07               0             0             0            1   \n",
       "2017-01-08               0             0             0            0   \n",
       "\n",
       "            (-2.0, -1.5]  (-1.5, -1.0]  (-1.0, -0.75]  (-0.75, -0.5]  \\\n",
       "2016-12-31             2             2              7              5   \n",
       "2017-01-02             1             0              4             10   \n",
       "2017-01-04             7             4             10             27   \n",
       "2017-01-07             6             0              5              4   \n",
       "2017-01-08             1             0              1              3   \n",
       "\n",
       "            (-0.5, -0.25]  (-0.25, 0.0]    ...     (1.5, 2.0]  (2.0, 2.5]  \\\n",
       "2016-12-31              9            11    ...              0           0   \n",
       "2017-01-02              9            15    ...              0           0   \n",
       "2017-01-04             29            27    ...              0           0   \n",
       "2017-01-07              5            11    ...              0           0   \n",
       "2017-01-08              8             7    ...              0           0   \n",
       "\n",
       "            (2.5, 3.0]  (3.0, 3.5]  (3.5, 4.0]   predNum   maxPred   minPred  \\\n",
       "2016-12-31           0           0           0  0.189959  1.878213 -2.309346   \n",
       "2017-01-02           0           0           0  0.389755  1.718506 -1.152010   \n",
       "2017-01-04           0           0           0  0.260681  1.586985 -1.669527   \n",
       "2017-01-07           0           0           0  0.207788  1.468936 -1.822170   \n",
       "2017-01-08           0           0           0  0.453583  1.584742 -1.281339   \n",
       "\n",
       "               range       STD  \n",
       "2016-12-31  4.187560  0.727591  \n",
       "2017-01-02  2.870517  0.550594  \n",
       "2017-01-04  3.256511  0.624962  \n",
       "2017-01-07  3.291105  0.695756  \n",
       "2017-01-08  2.866082  0.515332  \n",
       "\n",
       "[5 rows x 25 columns]"
      ]
     },
     "execution_count": 53,
     "metadata": {},
     "output_type": "execute_result"
    }
   ],
   "source": [
    "X.head()"
   ]
  },
  {
   "cell_type": "code",
   "execution_count": 54,
   "metadata": {},
   "outputs": [
    {
     "data": {
      "text/html": [
       "<div>\n",
       "<style scoped>\n",
       "    .dataframe tbody tr th:only-of-type {\n",
       "        vertical-align: middle;\n",
       "    }\n",
       "\n",
       "    .dataframe tbody tr th {\n",
       "        vertical-align: top;\n",
       "    }\n",
       "\n",
       "    .dataframe thead th {\n",
       "        text-align: right;\n",
       "    }\n",
       "</style>\n",
       "<table border=\"1\" class=\"dataframe\">\n",
       "  <thead>\n",
       "    <tr style=\"text-align: right;\">\n",
       "      <th></th>\n",
       "      <th>(-4.001, -3.5]</th>\n",
       "      <th>(-3.5, -3.0]</th>\n",
       "      <th>(-3.0, -2.5]</th>\n",
       "      <th>(-2.5, -2.0</th>\n",
       "      <th>(-2.0, -1.5]</th>\n",
       "      <th>(-1.5, -1.0]</th>\n",
       "      <th>(-1.0, -0.75]</th>\n",
       "      <th>(-0.75, -0.5]</th>\n",
       "      <th>(-0.5, -0.25]</th>\n",
       "      <th>(-0.25, 0.0]</th>\n",
       "      <th>...</th>\n",
       "      <th>(1.5, 2.0]</th>\n",
       "      <th>(2.0, 2.5]</th>\n",
       "      <th>(2.5, 3.0]</th>\n",
       "      <th>(3.0, 3.5]</th>\n",
       "      <th>(3.5, 4.0]</th>\n",
       "      <th>predNum</th>\n",
       "      <th>maxPred</th>\n",
       "      <th>minPred</th>\n",
       "      <th>range</th>\n",
       "      <th>STD</th>\n",
       "    </tr>\n",
       "  </thead>\n",
       "  <tbody>\n",
       "    <tr>\n",
       "      <th>2017-01-04</th>\n",
       "      <td>0</td>\n",
       "      <td>0</td>\n",
       "      <td>0</td>\n",
       "      <td>2</td>\n",
       "      <td>7</td>\n",
       "      <td>4</td>\n",
       "      <td>10</td>\n",
       "      <td>27</td>\n",
       "      <td>29</td>\n",
       "      <td>27</td>\n",
       "      <td>...</td>\n",
       "      <td>0</td>\n",
       "      <td>0</td>\n",
       "      <td>0</td>\n",
       "      <td>0</td>\n",
       "      <td>0</td>\n",
       "      <td>0.260681</td>\n",
       "      <td>1.586985</td>\n",
       "      <td>-1.669527</td>\n",
       "      <td>3.256511</td>\n",
       "      <td>0.624962</td>\n",
       "    </tr>\n",
       "    <tr>\n",
       "      <th>2017-07-05</th>\n",
       "      <td>0</td>\n",
       "      <td>0</td>\n",
       "      <td>0</td>\n",
       "      <td>0</td>\n",
       "      <td>1</td>\n",
       "      <td>1</td>\n",
       "      <td>4</td>\n",
       "      <td>9</td>\n",
       "      <td>21</td>\n",
       "      <td>22</td>\n",
       "      <td>...</td>\n",
       "      <td>0</td>\n",
       "      <td>0</td>\n",
       "      <td>0</td>\n",
       "      <td>0</td>\n",
       "      <td>0</td>\n",
       "      <td>0.354922</td>\n",
       "      <td>1.350340</td>\n",
       "      <td>-1.343570</td>\n",
       "      <td>2.693910</td>\n",
       "      <td>0.513104</td>\n",
       "    </tr>\n",
       "    <tr>\n",
       "      <th>2017-04-06</th>\n",
       "      <td>0</td>\n",
       "      <td>0</td>\n",
       "      <td>0</td>\n",
       "      <td>0</td>\n",
       "      <td>3</td>\n",
       "      <td>1</td>\n",
       "      <td>4</td>\n",
       "      <td>8</td>\n",
       "      <td>14</td>\n",
       "      <td>11</td>\n",
       "      <td>...</td>\n",
       "      <td>0</td>\n",
       "      <td>0</td>\n",
       "      <td>0</td>\n",
       "      <td>0</td>\n",
       "      <td>0</td>\n",
       "      <td>0.382256</td>\n",
       "      <td>1.641286</td>\n",
       "      <td>-1.288493</td>\n",
       "      <td>2.929779</td>\n",
       "      <td>0.618318</td>\n",
       "    </tr>\n",
       "    <tr>\n",
       "      <th>2017-04-22</th>\n",
       "      <td>0</td>\n",
       "      <td>0</td>\n",
       "      <td>1</td>\n",
       "      <td>0</td>\n",
       "      <td>0</td>\n",
       "      <td>1</td>\n",
       "      <td>0</td>\n",
       "      <td>3</td>\n",
       "      <td>7</td>\n",
       "      <td>8</td>\n",
       "      <td>...</td>\n",
       "      <td>0</td>\n",
       "      <td>0</td>\n",
       "      <td>0</td>\n",
       "      <td>0</td>\n",
       "      <td>0</td>\n",
       "      <td>0.484784</td>\n",
       "      <td>1.888307</td>\n",
       "      <td>-2.164861</td>\n",
       "      <td>4.053167</td>\n",
       "      <td>0.652789</td>\n",
       "    </tr>\n",
       "    <tr>\n",
       "      <th>2017-02-04</th>\n",
       "      <td>0</td>\n",
       "      <td>0</td>\n",
       "      <td>0</td>\n",
       "      <td>0</td>\n",
       "      <td>3</td>\n",
       "      <td>0</td>\n",
       "      <td>5</td>\n",
       "      <td>6</td>\n",
       "      <td>7</td>\n",
       "      <td>9</td>\n",
       "      <td>...</td>\n",
       "      <td>0</td>\n",
       "      <td>0</td>\n",
       "      <td>0</td>\n",
       "      <td>0</td>\n",
       "      <td>0</td>\n",
       "      <td>0.246301</td>\n",
       "      <td>1.229112</td>\n",
       "      <td>-1.397378</td>\n",
       "      <td>2.626490</td>\n",
       "      <td>0.588495</td>\n",
       "    </tr>\n",
       "  </tbody>\n",
       "</table>\n",
       "<p>5 rows × 25 columns</p>\n",
       "</div>"
      ],
      "text/plain": [
       "            (-4.001, -3.5]  (-3.5, -3.0]  (-3.0, -2.5]  (-2.5, -2.0  \\\n",
       "2017-01-04               0             0             0            2   \n",
       "2017-07-05               0             0             0            0   \n",
       "2017-04-06               0             0             0            0   \n",
       "2017-04-22               0             0             1            0   \n",
       "2017-02-04               0             0             0            0   \n",
       "\n",
       "            (-2.0, -1.5]  (-1.5, -1.0]  (-1.0, -0.75]  (-0.75, -0.5]  \\\n",
       "2017-01-04             7             4             10             27   \n",
       "2017-07-05             1             1              4              9   \n",
       "2017-04-06             3             1              4              8   \n",
       "2017-04-22             0             1              0              3   \n",
       "2017-02-04             3             0              5              6   \n",
       "\n",
       "            (-0.5, -0.25]  (-0.25, 0.0]    ...     (1.5, 2.0]  (2.0, 2.5]  \\\n",
       "2017-01-04             29            27    ...              0           0   \n",
       "2017-07-05             21            22    ...              0           0   \n",
       "2017-04-06             14            11    ...              0           0   \n",
       "2017-04-22              7             8    ...              0           0   \n",
       "2017-02-04              7             9    ...              0           0   \n",
       "\n",
       "            (2.5, 3.0]  (3.0, 3.5]  (3.5, 4.0]   predNum   maxPred   minPred  \\\n",
       "2017-01-04           0           0           0  0.260681  1.586985 -1.669527   \n",
       "2017-07-05           0           0           0  0.354922  1.350340 -1.343570   \n",
       "2017-04-06           0           0           0  0.382256  1.641286 -1.288493   \n",
       "2017-04-22           0           0           0  0.484784  1.888307 -2.164861   \n",
       "2017-02-04           0           0           0  0.246301  1.229112 -1.397378   \n",
       "\n",
       "               range       STD  \n",
       "2017-01-04  3.256511  0.624962  \n",
       "2017-07-05  2.693910  0.513104  \n",
       "2017-04-06  2.929779  0.618318  \n",
       "2017-04-22  4.053167  0.652789  \n",
       "2017-02-04  2.626490  0.588495  \n",
       "\n",
       "[5 rows x 25 columns]"
      ]
     },
     "execution_count": 54,
     "metadata": {},
     "output_type": "execute_result"
    }
   ],
   "source": [
    "X_train2.sort_index()\n",
    "X_train2.head()"
   ]
  },
  {
   "cell_type": "code",
   "execution_count": 55,
   "metadata": {},
   "outputs": [
    {
     "data": {
      "text/plain": [
       "2017-01-04    1.0\n",
       "2017-07-05   -1.0\n",
       "2017-04-06    1.0\n",
       "2017-04-22    0.0\n",
       "2017-02-04    0.0\n",
       "Name: Change, dtype: float64"
      ]
     },
     "execution_count": 55,
     "metadata": {},
     "output_type": "execute_result"
    }
   ],
   "source": [
    "y_train2.head()"
   ]
  },
  {
   "cell_type": "code",
   "execution_count": 56,
   "metadata": {},
   "outputs": [
    {
     "data": {
      "text/plain": [
       "2017-08-02    1.0\n",
       "2017-01-26    0.0\n",
       "2017-12-02    0.0\n",
       "2017-09-21   -1.0\n",
       "2017-09-09    1.0\n",
       "Name: Change, dtype: float64"
      ]
     },
     "execution_count": 56,
     "metadata": {},
     "output_type": "execute_result"
    }
   ],
   "source": [
    "y_test2.head()"
   ]
  },
  {
   "cell_type": "code",
   "execution_count": 57,
   "metadata": {},
   "outputs": [
    {
     "data": {
      "text/html": [
       "<div>\n",
       "<style scoped>\n",
       "    .dataframe tbody tr th:only-of-type {\n",
       "        vertical-align: middle;\n",
       "    }\n",
       "\n",
       "    .dataframe tbody tr th {\n",
       "        vertical-align: top;\n",
       "    }\n",
       "\n",
       "    .dataframe thead th {\n",
       "        text-align: right;\n",
       "    }\n",
       "</style>\n",
       "<table border=\"1\" class=\"dataframe\">\n",
       "  <thead>\n",
       "    <tr style=\"text-align: right;\">\n",
       "      <th></th>\n",
       "      <th>(-4.001, -3.5]</th>\n",
       "      <th>(-3.5, -3.0]</th>\n",
       "      <th>(-3.0, -2.5]</th>\n",
       "      <th>(-2.5, -2.0</th>\n",
       "      <th>(-2.0, -1.5]</th>\n",
       "      <th>(-1.5, -1.0]</th>\n",
       "      <th>(-1.0, -0.75]</th>\n",
       "      <th>(-0.75, -0.5]</th>\n",
       "      <th>(-0.5, -0.25]</th>\n",
       "      <th>(-0.25, 0.0]</th>\n",
       "      <th>...</th>\n",
       "      <th>(1.5, 2.0]</th>\n",
       "      <th>(2.0, 2.5]</th>\n",
       "      <th>(2.5, 3.0]</th>\n",
       "      <th>(3.0, 3.5]</th>\n",
       "      <th>(3.5, 4.0]</th>\n",
       "      <th>predNum</th>\n",
       "      <th>maxPred</th>\n",
       "      <th>minPred</th>\n",
       "      <th>range</th>\n",
       "      <th>STD</th>\n",
       "    </tr>\n",
       "  </thead>\n",
       "  <tbody>\n",
       "    <tr>\n",
       "      <th>2017-08-02</th>\n",
       "      <td>0</td>\n",
       "      <td>0</td>\n",
       "      <td>0</td>\n",
       "      <td>1</td>\n",
       "      <td>2</td>\n",
       "      <td>6</td>\n",
       "      <td>10</td>\n",
       "      <td>15</td>\n",
       "      <td>24</td>\n",
       "      <td>30</td>\n",
       "      <td>...</td>\n",
       "      <td>0</td>\n",
       "      <td>0</td>\n",
       "      <td>0</td>\n",
       "      <td>0</td>\n",
       "      <td>0</td>\n",
       "      <td>0.341005</td>\n",
       "      <td>1.506543</td>\n",
       "      <td>-1.651775</td>\n",
       "      <td>3.158319</td>\n",
       "      <td>0.579261</td>\n",
       "    </tr>\n",
       "    <tr>\n",
       "      <th>2017-01-26</th>\n",
       "      <td>0</td>\n",
       "      <td>0</td>\n",
       "      <td>0</td>\n",
       "      <td>0</td>\n",
       "      <td>2</td>\n",
       "      <td>1</td>\n",
       "      <td>2</td>\n",
       "      <td>4</td>\n",
       "      <td>4</td>\n",
       "      <td>15</td>\n",
       "      <td>...</td>\n",
       "      <td>0</td>\n",
       "      <td>0</td>\n",
       "      <td>0</td>\n",
       "      <td>0</td>\n",
       "      <td>0</td>\n",
       "      <td>0.484330</td>\n",
       "      <td>1.442170</td>\n",
       "      <td>-1.046126</td>\n",
       "      <td>2.488295</td>\n",
       "      <td>0.547701</td>\n",
       "    </tr>\n",
       "    <tr>\n",
       "      <th>2017-12-02</th>\n",
       "      <td>0</td>\n",
       "      <td>0</td>\n",
       "      <td>1</td>\n",
       "      <td>0</td>\n",
       "      <td>1</td>\n",
       "      <td>2</td>\n",
       "      <td>6</td>\n",
       "      <td>10</td>\n",
       "      <td>20</td>\n",
       "      <td>24</td>\n",
       "      <td>...</td>\n",
       "      <td>0</td>\n",
       "      <td>0</td>\n",
       "      <td>0</td>\n",
       "      <td>0</td>\n",
       "      <td>0</td>\n",
       "      <td>0.398611</td>\n",
       "      <td>1.704739</td>\n",
       "      <td>-2.165793</td>\n",
       "      <td>3.870532</td>\n",
       "      <td>0.558902</td>\n",
       "    </tr>\n",
       "    <tr>\n",
       "      <th>2017-09-21</th>\n",
       "      <td>0</td>\n",
       "      <td>0</td>\n",
       "      <td>0</td>\n",
       "      <td>0</td>\n",
       "      <td>2</td>\n",
       "      <td>0</td>\n",
       "      <td>5</td>\n",
       "      <td>5</td>\n",
       "      <td>23</td>\n",
       "      <td>22</td>\n",
       "      <td>...</td>\n",
       "      <td>1</td>\n",
       "      <td>0</td>\n",
       "      <td>0</td>\n",
       "      <td>0</td>\n",
       "      <td>0</td>\n",
       "      <td>0.413667</td>\n",
       "      <td>2.484485</td>\n",
       "      <td>-1.235245</td>\n",
       "      <td>3.719731</td>\n",
       "      <td>0.563646</td>\n",
       "    </tr>\n",
       "    <tr>\n",
       "      <th>2017-09-09</th>\n",
       "      <td>0</td>\n",
       "      <td>0</td>\n",
       "      <td>0</td>\n",
       "      <td>1</td>\n",
       "      <td>0</td>\n",
       "      <td>2</td>\n",
       "      <td>6</td>\n",
       "      <td>4</td>\n",
       "      <td>5</td>\n",
       "      <td>13</td>\n",
       "      <td>...</td>\n",
       "      <td>0</td>\n",
       "      <td>0</td>\n",
       "      <td>0</td>\n",
       "      <td>0</td>\n",
       "      <td>0</td>\n",
       "      <td>0.367962</td>\n",
       "      <td>1.554037</td>\n",
       "      <td>-1.598508</td>\n",
       "      <td>3.152544</td>\n",
       "      <td>0.617146</td>\n",
       "    </tr>\n",
       "  </tbody>\n",
       "</table>\n",
       "<p>5 rows × 25 columns</p>\n",
       "</div>"
      ],
      "text/plain": [
       "            (-4.001, -3.5]  (-3.5, -3.0]  (-3.0, -2.5]  (-2.5, -2.0  \\\n",
       "2017-08-02               0             0             0            1   \n",
       "2017-01-26               0             0             0            0   \n",
       "2017-12-02               0             0             1            0   \n",
       "2017-09-21               0             0             0            0   \n",
       "2017-09-09               0             0             0            1   \n",
       "\n",
       "            (-2.0, -1.5]  (-1.5, -1.0]  (-1.0, -0.75]  (-0.75, -0.5]  \\\n",
       "2017-08-02             2             6             10             15   \n",
       "2017-01-26             2             1              2              4   \n",
       "2017-12-02             1             2              6             10   \n",
       "2017-09-21             2             0              5              5   \n",
       "2017-09-09             0             2              6              4   \n",
       "\n",
       "            (-0.5, -0.25]  (-0.25, 0.0]    ...     (1.5, 2.0]  (2.0, 2.5]  \\\n",
       "2017-08-02             24            30    ...              0           0   \n",
       "2017-01-26              4            15    ...              0           0   \n",
       "2017-12-02             20            24    ...              0           0   \n",
       "2017-09-21             23            22    ...              1           0   \n",
       "2017-09-09              5            13    ...              0           0   \n",
       "\n",
       "            (2.5, 3.0]  (3.0, 3.5]  (3.5, 4.0]   predNum   maxPred   minPred  \\\n",
       "2017-08-02           0           0           0  0.341005  1.506543 -1.651775   \n",
       "2017-01-26           0           0           0  0.484330  1.442170 -1.046126   \n",
       "2017-12-02           0           0           0  0.398611  1.704739 -2.165793   \n",
       "2017-09-21           0           0           0  0.413667  2.484485 -1.235245   \n",
       "2017-09-09           0           0           0  0.367962  1.554037 -1.598508   \n",
       "\n",
       "               range       STD  \n",
       "2017-08-02  3.158319  0.579261  \n",
       "2017-01-26  2.488295  0.547701  \n",
       "2017-12-02  3.870532  0.558902  \n",
       "2017-09-21  3.719731  0.563646  \n",
       "2017-09-09  3.152544  0.617146  \n",
       "\n",
       "[5 rows x 25 columns]"
      ]
     },
     "execution_count": 57,
     "metadata": {},
     "output_type": "execute_result"
    }
   ],
   "source": [
    "X_test2.head()"
   ]
  },
  {
   "cell_type": "code",
   "execution_count": 60,
   "metadata": {},
   "outputs": [
    {
     "name": "stdout",
     "output_type": "stream",
     "text": [
      "[[ 7  1  2]\n",
      " [ 2  7  2]\n",
      " [ 5  2 13]]\n",
      "             precision    recall  f1-score   support\n",
      "\n",
      "       -1.0       0.50      0.70      0.58        10\n",
      "        0.0       0.70      0.64      0.67        11\n",
      "        1.0       0.76      0.65      0.70        20\n",
      "\n",
      "avg / total       0.68      0.66      0.66        41\n",
      "\n"
     ]
    }
   ],
   "source": [
    "from sklearn.linear_model import LogisticRegression\n",
    "clf = LogisticRegression().fit(X_train2,y_train2)\n",
    "y_pred3 = clf.predict(X_test2)\n",
    "#implementing logistic regression moddel with confusion matrix and other measures\n",
    "from sklearn.metrics import classification_report, confusion_matrix\n",
    "from sklearn import metrics\n",
    "lg_acc = metrics.accuracy_score(y_test2, y_pred3)\n",
    "print(confusion_matrix(y_test2,y_pred3))  \n",
    "print(classification_report(y_test2,y_pred3))  "
   ]
  },
  {
   "cell_type": "code",
   "execution_count": 61,
   "metadata": {},
   "outputs": [
    {
     "data": {
      "text/plain": [
       "Text(0.5,15,'Predicted label')"
      ]
     },
     "execution_count": 61,
     "metadata": {},
     "output_type": "execute_result"
    },
    {
     "data": {
      "image/png": "[encoded data removed]",
      "text/plain": [
       "<Figure size 360x288 with 2 Axes>"
      ]
     },
     "metadata": {},
     "output_type": "display_data"
    }
   ],
   "source": [
    "import seaborn as sn\n",
    "from sklearn.metrics import confusion_matrix\n",
    "cm = confusion_matrix(y_test2,y_pred3)\n",
    "cm = cm.astype('float')/cm.sum(axis=1)[:, np.newaxis]\n",
    "df_cm = pd.DataFrame(cm, index = ['Sell' , 'Stay', 'Buy'], \n",
    "                     columns = ['Sell' , 'Stay', 'Buy'])\n",
    "plt.figure(figsize = (5,4))\n",
    "graph = sn.heatmap(df_cm, annot=True)\n",
    "graph.set_title('Logistic Regression')\n",
    "graph.set_ylabel('True label')\n",
    "graph.set_xlabel('Predicted label')\n",
    "#Plotting of the confusion matrix"
   ]
  },
  {
   "cell_type": "code",
   "execution_count": 62,
   "metadata": {},
   "outputs": [
    {
     "data": {
      "text/plain": [
       "0.35623023402909554"
      ]
     },
     "execution_count": 62,
     "metadata": {},
     "output_type": "execute_result"
    }
   ],
   "source": [
    "from sklearn.model_selection import cross_val_score  \n",
    "accuracies = cross_val_score(estimator = clf, X = X_train2, y = y_train2, cv = 5)\n",
    "lg_cv = accuracies.mean()\n",
    "accuracies.mean()\n",
    "#cross validation accuracy score"
   ]
  },
  {
   "cell_type": "code",
   "execution_count": 63,
   "metadata": {},
   "outputs": [
    {
     "name": "stdout",
     "output_type": "stream",
     "text": [
      "[[4 3 3]\n",
      " [1 4 6]\n",
      " [7 6 7]]\n",
      "             precision    recall  f1-score   support\n",
      "\n",
      "       -1.0       0.33      0.40      0.36        10\n",
      "        0.0       0.31      0.36      0.33        11\n",
      "        1.0       0.44      0.35      0.39        20\n",
      "\n",
      "avg / total       0.38      0.37      0.37        41\n",
      "\n"
     ]
    }
   ],
   "source": [
    "from sklearn.ensemble import RandomForestClassifier\n",
    "model=RandomForestClassifier()\n",
    "model.fit(X_train2,y_train2)\n",
    "y_pred4 = model.predict(X_test2)\n",
    "#implementing RandomForestClassifier moddel with confusion matrix and other measures\n",
    "from sklearn.metrics import classification_report, confusion_matrix\n",
    "from sklearn import metrics\n",
    "rf_acc = metrics.accuracy_score(y_test2, y_pred4)\n",
    "print(confusion_matrix(y_test2,y_pred4))  \n",
    "print(classification_report(y_test2,y_pred4))  "
   ]
  },
  {
   "cell_type": "code",
   "execution_count": 64,
   "metadata": {},
   "outputs": [
    {
     "data": {
      "text/plain": [
       "Text(0.5,15,'Predicted label')"
      ]
     },
     "execution_count": 64,
     "metadata": {},
     "output_type": "execute_result"
    },
    {
     "data": {
      "image/png": "[encoded data removed]",
      "text/plain": [
       "<Figure size 360x288 with 2 Axes>"
      ]
     },
     "metadata": {},
     "output_type": "display_data"
    }
   ],
   "source": [
    "import seaborn as sn\n",
    "from sklearn.metrics import confusion_matrix\n",
    "cm = confusion_matrix(y_test2,y_pred4)\n",
    "cm = cm.astype('float')/cm.sum(axis=1)[:, np.newaxis]\n",
    "df_cm = pd.DataFrame(cm, index = ['Sell' , 'Stay', 'Buy'], \n",
    "                     columns = ['Sell' , 'Stay', 'Buy'])\n",
    "\n",
    "plt.figure(figsize = (5,4))\n",
    "graph = sn.heatmap(df_cm, annot=True)\n",
    "graph.set_title('Random Forest Classifier')\n",
    "graph.set_ylabel('True label')\n",
    "graph.set_xlabel('Predicted label')\n",
    "#Plotting of the confusion matrix"
   ]
  },
  {
   "cell_type": "code",
   "execution_count": 65,
   "metadata": {},
   "outputs": [
    {
     "data": {
      "text/plain": [
       "0.41123569662469095"
      ]
     },
     "execution_count": 65,
     "metadata": {},
     "output_type": "execute_result"
    }
   ],
   "source": [
    "from sklearn.model_selection import cross_val_score  \n",
    "accuracies = cross_val_score(estimator = model, X = X_train2, y = y_train2, cv = 5)\n",
    "rf_cv = accuracies.mean()\n",
    "accuracies.mean()"
   ]
  },
  {
   "cell_type": "code",
   "execution_count": 66,
   "metadata": {},
   "outputs": [
    {
     "data": {
      "image/png": "[encoded data removed]",
      "text/plain": [
       "<Figure size 432x288 with 1 Axes>"
      ]
     },
     "metadata": {},
     "output_type": "display_data"
    }
   ],
   "source": [
    "feature = model.feature_importances_\n",
    "plt.bar(range(len(feature)), feature, align='center')\n",
    "plt.xticks(range(len(feature)), featureCols, rotation='vertical')\n",
    "plt.title('Feature importance')\n",
    "plt.ylabel('Importance')\n",
    "plt.xlabel('Features')\n",
    "plt.show()\n",
    "#shows on bar graph all features and which is the most important"
   ]
  },
  {
   "cell_type": "code",
   "execution_count": 67,
   "metadata": {},
   "outputs": [
    {
     "name": "stdout",
     "output_type": "stream",
     "text": [
      "[[ 5  3  2]\n",
      " [ 1  4  6]\n",
      " [ 4  6 10]]\n",
      "             precision    recall  f1-score   support\n",
      "\n",
      "       -1.0       0.50      0.50      0.50        10\n",
      "        0.0       0.31      0.36      0.33        11\n",
      "        1.0       0.56      0.50      0.53        20\n",
      "\n",
      "avg / total       0.48      0.46      0.47        41\n",
      "\n"
     ]
    }
   ],
   "source": [
    "from sklearn import tree\n",
    "tree = tree.DecisionTreeClassifier()\n",
    "tree = tree.fit(X_train2,y_train2)\n",
    "y_pred5 = tree.predict(X_test2)\n",
    "#implementing decision tree moddel with confusion matrix and other measures\n",
    "\n",
    "from sklearn.metrics import classification_report, confusion_matrix \n",
    "from sklearn import metrics\n",
    "dt_acc = metrics.accuracy_score(y_test2, y_pred5)\n",
    "print(confusion_matrix(y_test2,y_pred5))  \n",
    "print(classification_report(y_test2,y_pred5))  "
   ]
  },
  {
   "cell_type": "code",
   "execution_count": 68,
   "metadata": {},
   "outputs": [
    {
     "data": {
      "text/plain": [
       "Text(0.5,15,'Predicted label')"
      ]
     },
     "execution_count": 68,
     "metadata": {},
     "output_type": "execute_result"
    },
    {
     "data": {
      "image/png": "[encoded data removed]",
      "text/plain": [
       "<Figure size 360x288 with 2 Axes>"
      ]
     },
     "metadata": {},
     "output_type": "display_data"
    }
   ],
   "source": [
    "import seaborn as sn\n",
    "from sklearn.metrics import confusion_matrix\n",
    "cm = confusion_matrix(y_test2,y_pred5)\n",
    "cm = cm.astype('float')/cm.sum(axis=1)[:, np.newaxis]\n",
    "df_cm = pd.DataFrame(cm, index = ['Sell' , 'Stay', 'Buy'], \n",
    "                     columns = ['Sell' , 'Stay', 'Buy'])\n",
    "plt.figure(figsize = (5,4))\n",
    "graph = sn.heatmap(df_cm, annot=True)\n",
    "graph.set_title('Decision Tree')\n",
    "graph.set_ylabel('True label')\n",
    "graph.set_xlabel('Predicted label')\n",
    "#Plotting of the confusion matrix"
   ]
  },
  {
   "cell_type": "code",
   "execution_count": 69,
   "metadata": {},
   "outputs": [
    {
     "data": {
      "text/plain": [
       "0.35302742797998965"
      ]
     },
     "execution_count": 69,
     "metadata": {},
     "output_type": "execute_result"
    }
   ],
   "source": [
    "from sklearn.model_selection import cross_val_score  \n",
    "accuracies = cross_val_score(estimator = tree, X = X_train2, y = y_train2, cv = 5)\n",
    "dt_cv = accuracies.mean()\n",
    "accuracies.mean()"
   ]
  },
  {
   "cell_type": "code",
   "execution_count": 70,
   "metadata": {},
   "outputs": [
    {
     "data": {
      "image/png": "[encoded data removed]",
      "text/plain": [
       "<Figure size 432x288 with 1 Axes>"
      ]
     },
     "metadata": {},
     "output_type": "display_data"
    }
   ],
   "source": [
    "feature2 = tree.feature_importances_\n",
    "plt.bar(range(len(feature2)), feature2, align='center')\n",
    "plt.xticks(range(len(feature2)), featureCols, rotation='vertical')\n",
    "plt.title('Feature importance')\n",
    "plt.ylabel('Importance')\n",
    "plt.xlabel('Features')\n",
    "plt.show()\n",
    "#shows on bar graph all features and which is the most important"
   ]
  },
  {
   "cell_type": "code",
   "execution_count": 71,
   "metadata": {},
   "outputs": [],
   "source": [
    "from sklearn.svm import SVC\n",
    "svm= SVC()\n",
    "#import of svm model with rbf kernel"
   ]
  },
  {
   "cell_type": "code",
   "execution_count": 72,
   "metadata": {},
   "outputs": [
    {
     "name": "stdout",
     "output_type": "stream",
     "text": [
      "Wall time: 2.99 ms\n"
     ]
    },
    {
     "data": {
      "text/plain": [
       "SVC(C=1.0, cache_size=200, class_weight=None, coef0=0.0,\n",
       "  decision_function_shape='ovr', degree=3, gamma='auto', kernel='rbf',\n",
       "  max_iter=-1, probability=False, random_state=None, shrinking=True,\n",
       "  tol=0.001, verbose=False)"
      ]
     },
     "execution_count": 72,
     "metadata": {},
     "output_type": "execute_result"
    }
   ],
   "source": [
    "%%time\n",
    "svm.fit(X_train2, y_train2)"
   ]
  },
  {
   "cell_type": "code",
   "execution_count": 73,
   "metadata": {},
   "outputs": [
    {
     "data": {
      "text/plain": [
       "0.4421424874935311"
      ]
     },
     "execution_count": 73,
     "metadata": {},
     "output_type": "execute_result"
    }
   ],
   "source": [
    "from sklearn.model_selection import cross_val_score  \n",
    "accuracies = cross_val_score(estimator = svm, X = X_train2, y = y_train2, cv = 5)\n",
    "svm_cv = accuracies.mean()\n",
    "accuracies.mean()"
   ]
  },
  {
   "cell_type": "code",
   "execution_count": 74,
   "metadata": {},
   "outputs": [],
   "source": [
    "y_pred2 = svm.predict(X_test2)"
   ]
  },
  {
   "cell_type": "code",
   "execution_count": 75,
   "metadata": {},
   "outputs": [
    {
     "name": "stdout",
     "output_type": "stream",
     "text": [
      "[[ 0  1  9]\n",
      " [ 0  1 10]\n",
      " [ 0  0 20]]\n",
      "             precision    recall  f1-score   support\n",
      "\n",
      "       -1.0       0.00      0.00      0.00        10\n",
      "        0.0       0.50      0.09      0.15        11\n",
      "        1.0       0.51      1.00      0.68        20\n",
      "\n",
      "avg / total       0.38      0.51      0.37        41\n",
      "\n"
     ]
    },
    {
     "name": "stderr",
     "output_type": "stream",
     "text": [
      "C:\\Users\\maste\\Anaconda3\\lib\\site-packages\\sklearn\\metrics\\classification.py:1135: UndefinedMetricWarning: Precision and F-score are ill-defined and being set to 0.0 in labels with no predicted samples.\n",
      "  'precision', 'predicted', average, warn_for)\n"
     ]
    }
   ],
   "source": [
    "from sklearn.metrics import classification_report, confusion_matrix \n",
    "from sklearn import metrics\n",
    "svm_acc = metrics.accuracy_score(y_test2, y_pred2)\n",
    "print(confusion_matrix(y_test2,y_pred2))  \n",
    "print(classification_report(y_test2,y_pred2))  \n",
    "#classiication report and confussion matrix"
   ]
  },
  {
   "cell_type": "code",
   "execution_count": 76,
   "metadata": {},
   "outputs": [
    {
     "data": {
      "text/plain": [
       "Text(0.5,15,'Predicted label')"
      ]
     },
     "execution_count": 76,
     "metadata": {},
     "output_type": "execute_result"
    },
    {
     "data": {
      "image/png": "[encoded data removed]",
      "text/plain": [
       "<Figure size 360x288 with 2 Axes>"
      ]
     },
     "metadata": {},
     "output_type": "display_data"
    }
   ],
   "source": [
    "import seaborn as sn\n",
    "from sklearn.metrics import confusion_matrix\n",
    "cm = confusion_matrix(y_test2,y_pred2)\n",
    "cm = cm.astype('float')/cm.sum(axis=1)[:, np.newaxis]\n",
    "df_cm = pd.DataFrame(cm, index = ['Sell' , 'Stay', 'Buy'], \n",
    "                     columns = ['Sell' , 'Stay', 'Buy'])\n",
    "\n",
    "plt.figure(figsize = (5,4))\n",
    "graph = sn.heatmap(df_cm, annot=True)\n",
    "graph.set_title('SVM')\n",
    "graph.set_ylabel('True label')\n",
    "graph.set_xlabel('Predicted label')\n",
    "#Plotting of the confusion matrix"
   ]
  },
  {
   "cell_type": "code",
   "execution_count": 78,
   "metadata": {},
   "outputs": [
    {
     "data": {
      "text/plain": [
       "Text(0.5,1,'Model Accuracy')"
      ]
     },
     "execution_count": 78,
     "metadata": {},
     "output_type": "execute_result"
    },
    {
     "data": {
      "image/png": "[encoded data removed]",
      "text/plain": [
       "<Figure size 432x288 with 1 Axes>"
      ]
     },
     "metadata": {},
     "output_type": "display_data"
    }
   ],
   "source": [
    "objects = ('LogReg CV','LogReg Acc', 'SVM CV', 'SVM Acc','RFC CV','RFC Acc')\n",
    "y_pos = np.arange(len(objects))\n",
    "accuracy = [lg_cv, lg_acc, svm_cv, svm_acc, rf_cv, rf_acc]\n",
    "plt.bar(y_pos, accuracy, align='center', alpha = 0.5)\n",
    "plt.xticks(y_pos, objects)\n",
    "plt.ylabel('Percent')\n",
    "plt.title('Model Accuracy')"
   ]
  },
  {
   "cell_type": "code",
   "execution_count": null,
   "metadata": {},
   "outputs": [],
   "source": []
  }
 ],
 "metadata": {
  "kernelspec": {
   "display_name": "Python 3",
   "language": "python",
   "name": "python3"
  },
  "language_info": {
   "codemirror_mode": {
    "name": "ipython",
    "version": 3
   },
   "file_extension": ".py",
   "mimetype": "text/x-python",
   "name": "python",
   "nbconvert_exporter": "python",
   "pygments_lexer": "ipython3",
   "version": "3.6.7"
  }
 },
 "nbformat": 4,
 "nbformat_minor": 2
}
